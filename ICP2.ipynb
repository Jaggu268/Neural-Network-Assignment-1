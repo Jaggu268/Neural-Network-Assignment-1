{
  "nbformat": 4,
  "nbformat_minor": 0,
  "metadata": {
    "colab": {
      "provenance": [],
      "authorship_tag": "ABX9TyMB3khtKqwz27GKJyDPrbfe",
      "include_colab_link": true
    },
    "kernelspec": {
      "name": "python3",
      "display_name": "Python 3"
    },
    "language_info": {
      "name": "python"
    }
  },
  "cells": [
    {
      "cell_type": "markdown",
      "metadata": {
        "id": "view-in-github",
        "colab_type": "text"
      },
      "source": [
        "<a href=\"https://colab.research.google.com/github/Jaggu268/Neural-Network-Assignment-1/blob/main/ICP2.ipynb\" target=\"_parent\"><img src=\"https://colab.research.google.com/assets/colab-badge.svg\" alt=\"Open In Colab\"/></a>"
      ]
    },
    {
      "cell_type": "code",
      "execution_count": null,
      "metadata": {
        "id": "7GtC8_hLQEZ4"
      },
      "outputs": [],
      "source": []
    },
    {
      "cell_type": "code",
      "source": [
        "# employee class code in Python\n",
        "# class definition\n",
        "\n",
        "class Employee:\n",
        "\n",
        "    # data member to count the number of Employees\n",
        "    count_of_employees = 0\n",
        "    __name=\"\"\n",
        "    __family=\"\"\n",
        "    __salary=0\n",
        "    __department=\"\"\n",
        "\n",
        "    # function to set data\n",
        "    # constructor to intiliaze the name, family, salary, department\n",
        "    def __init__(self, name, family, salary, department):\n",
        "        self.__name = name\n",
        "        self.__family = family\n",
        "        self.salary = salary\n",
        "        self.__department = department\n",
        "        Employee.count_of_employees += 1 #to count number of employees\n",
        "\n",
        "    #function to calculate the average salary of an employee\n",
        "    def average_salary(employees):\n",
        "        total = 0\n",
        "        for employee in employees:\n",
        "            total += employee.salary\n",
        "        return total / Employee.count_of_employees\n",
        "\n",
        "    #displaying the details of an employee\n",
        "    def showData(self):\n",
        "        print(\"The count of an employee is:\",Employee.count_of_employees)\n",
        "        #print(\"The Name of an employee is\\t:\", self.__name)\n",
        "        #print(\"The Family of an employee is\\t:\", self.__family)\n",
        "        #print(\"The Department of an employee is\\t:\", self.__department)\n",
        "        #print(\"The Salary of an employee is\\t:\", self.__salary)\n",
        "\n",
        "#A subclass which is inherited the properties of the class\n",
        "class FulltimeEmployee(Employee):\n",
        "   #intiliazation\n",
        "    def __init__(self, name, family, salary, department):\n",
        "        super().__init__(name, family, salary, department)\n",
        "\n",
        "\n",
        "#main class\n",
        "def main():\n",
        "    employees = []\n",
        "    one = FulltimeEmployee(\"JAGADEESH \", \"fm-pothuru\", 120000, \"Enginner\")  #Declaration\n",
        "    employees.append(one)  #appending\n",
        "    two = FulltimeEmployee(\"RAM\", \"fm-kamtam\", 180000, \"Developer\")\n",
        "    employees.append(two)\n",
        "    three = Employee(\"KRISHNA\", \"fm-dhawswarala\", 160000, \"Manager\")\n",
        "    employees.append(three)\n",
        "    four = Employee(\"RK\", \"Fm-siddavtam\", 135000, \"fashion\")\n",
        "    employees.append(four)\n",
        "    Employee.showData(employees)  #showing the data of an employee\n",
        "    print(\"Average salary of an employee is:\", FulltimeEmployee.average_salary(employees)) #Average salary of an employee\n",
        "\n",
        "\n",
        "if __name__ == \"__main__\":\n",
        "    main()"
      ],
      "metadata": {
        "colab": {
          "base_uri": "https://localhost:8080/"
        },
        "id": "paQjYMBvQJzJ",
        "outputId": "e1ff128d-8c9a-4080-864c-36920139a3e1"
      },
      "execution_count": 6,
      "outputs": [
        {
          "output_type": "stream",
          "name": "stdout",
          "text": [
            "The count of an employee is: 4\n",
            "Average salary of an employee is: 148750.0\n"
          ]
        }
      ]
    },
    {
      "cell_type": "code",
      "source": [
        "import numpy as np\n",
        "\n",
        "#function to replace the maximum value in an array of axis x and y based on the condition\n",
        "def replace_maxmium(array, replace_value, axis):\n",
        "    result = np.where(array == np.max(\n",
        "        array, axis=1).reshape(-1, 1), 0 * array, array)\n",
        "    print(result)\n",
        "\n",
        "\n",
        "def main():\n",
        "\n",
        " #creating a random vector of size 20 which is having in the range of 1-20\n",
        "    rand20 = np.random.random_sample(20) * 20 + 1\n",
        "    print(rand20)\n",
        "\n",
        "    #reshaping the array to 4 by 5 in random20\n",
        "    rand20_4by5 = rand20.reshape((4, 5))\n",
        "    print(rand20_4by5)\n",
        "\n",
        "    replace_maxmium(rand20_4by5, 0, 1)#replacing the max value in each row by zero\n",
        "\n",
        "\n",
        "if __name__ == \"__main__\":\n",
        "    main()"
      ],
      "metadata": {
        "colab": {
          "base_uri": "https://localhost:8080/"
        },
        "id": "QXzA6hANRe9w",
        "outputId": "1396827c-dd3f-4f86-ce2a-d5374e652824"
      },
      "execution_count": 4,
      "outputs": [
        {
          "output_type": "stream",
          "name": "stdout",
          "text": [
            "[ 3.67054523 13.77889737  7.58832123 20.68893169 13.58262789  6.77794085\n",
            " 18.47174109  9.09874701  9.41015549 19.94289606  1.48369621 11.13443314\n",
            " 19.27227681 10.47294625  1.32554763  6.20037799 12.43723259 14.09071164\n",
            " 11.44983275  7.41627926]\n",
            "[[ 3.67054523 13.77889737  7.58832123 20.68893169 13.58262789]\n",
            " [ 6.77794085 18.47174109  9.09874701  9.41015549 19.94289606]\n",
            " [ 1.48369621 11.13443314 19.27227681 10.47294625  1.32554763]\n",
            " [ 6.20037799 12.43723259 14.09071164 11.44983275  7.41627926]]\n",
            "[[ 3.67054523 13.77889737  7.58832123  0.         13.58262789]\n",
            " [ 6.77794085 18.47174109  9.09874701  9.41015549  0.        ]\n",
            " [ 1.48369621 11.13443314  0.         10.47294625  1.32554763]\n",
            " [ 6.20037799 12.43723259  0.         11.44983275  7.41627926]]\n"
          ]
        }
      ]
    }
  ]
}